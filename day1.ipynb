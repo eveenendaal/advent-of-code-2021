{
 "cells": [
  {
   "metadata": {
    "collapsed": true,
    "ExecuteTime": {
     "end_time": "2024-11-30T09:59:17.092983Z",
     "start_time": "2024-11-30T09:59:17.086370Z"
    }
   },
   "cell_type": "code",
   "source": [
    "from common.fileutils import read_input\n",
    "\n",
    "# read text line by line from day1/input.txt\n",
    "test_input = read_input('day1/test.txt')\n",
    "real_input = read_input('day1/input.txt')"
   ],
   "id": "initial_id",
   "outputs": [],
   "execution_count": 1
  },
  {
   "metadata": {
    "ExecuteTime": {
     "end_time": "2024-11-30T10:00:24.433691Z",
     "start_time": "2024-11-30T10:00:24.427839Z"
    }
   },
   "cell_type": "code",
   "source": [
    "# test case\n",
    "def process_input_part1(input, debug=False):\n",
    "    increases = 0\n",
    "\n",
    "    last_number = int(input[0])\n",
    "    # iterate over the list of strings skipping the first one\n",
    "    for number in input[1:]:\n",
    "        # convert the string to an integer\n",
    "        number = int(number)\n",
    "        # if next number is larger than the last number, include count\n",
    "        if number > last_number:\n",
    "            increases += 1\n",
    "            if debug:\n",
    "                print(f'{number} > {last_number}')\n",
    "        else:\n",
    "            if debug:\n",
    "                print(f'{number} <= {last_number}')\n",
    "\n",
    "        # update the last number\n",
    "        last_number = number\n",
    "\n",
    "    return increases\n",
    "\n",
    "\n",
    "increase_count = process_input_part1(test_input, True)\n",
    "print(increase_count)\n",
    "# assert that the output should equal 7\n",
    "assert increase_count == 7\n"
   ],
   "id": "10bac90b39b09cc2",
   "outputs": [
    {
     "name": "stdout",
     "output_type": "stream",
     "text": [
      "200 > 199\n",
      "208 > 200\n",
      "210 > 208\n",
      "200 <= 210\n",
      "207 > 200\n",
      "240 > 207\n",
      "269 > 240\n",
      "260 <= 269\n",
      "263 > 260\n",
      "7\n"
     ]
    }
   ],
   "execution_count": 4
  },
  {
   "metadata": {
    "ExecuteTime": {
     "end_time": "2024-11-30T10:00:25.158693Z",
     "start_time": "2024-11-30T10:00:25.154064Z"
    }
   },
   "cell_type": "code",
   "source": [
    "# real case\n",
    "increase_count = process_input_part1(real_input)\n",
    "print(increase_count)"
   ],
   "id": "66cab898e4711d42",
   "outputs": [
    {
     "name": "stdout",
     "output_type": "stream",
     "text": [
      "1709\n"
     ]
    }
   ],
   "execution_count": 5
  },
  {
   "metadata": {
    "ExecuteTime": {
     "end_time": "2024-11-30T10:01:28.850844Z",
     "start_time": "2024-11-30T10:01:28.836789Z"
    }
   },
   "cell_type": "code",
   "source": [
    "# test case\n",
    "def process_input_part2(input, debug=False):\n",
    "    increases = 0\n",
    "\n",
    "    # convert input to a list of integers\n",
    "    input = [int(x) for x in input]\n",
    "\n",
    "    # create a window of the first 3 numbers\n",
    "    window = input[:3]\n",
    "    # iterate over the list of strings skipping the first one\n",
    "    for number in input[3:]:\n",
    "        # sum window for old total\n",
    "        total = sum(window)\n",
    "        # add next number to window, and remove last number if the size is above 3\n",
    "        window.append(number)\n",
    "        if len(window) > 3:\n",
    "            window.pop(0)\n",
    "\n",
    "        new_total = sum(window)\n",
    "        if debug:\n",
    "            print(f'{total} -> {new_total}')\n",
    "        if new_total > total:\n",
    "            increases += 1\n",
    "\n",
    "    return increases\n",
    "\n",
    "increase_count = process_input_part2(test_input, True)\n",
    "print(increase_count)\n",
    "# assert that the output should equal 7\n",
    "assert increase_count == 5"
   ],
   "id": "d683f47f1f7973c9",
   "outputs": [
    {
     "name": "stdout",
     "output_type": "stream",
     "text": [
      "607 -> 618\n",
      "618 -> 618\n",
      "618 -> 617\n",
      "617 -> 647\n",
      "647 -> 716\n",
      "716 -> 769\n",
      "769 -> 792\n",
      "5\n"
     ]
    }
   ],
   "execution_count": 8
  },
  {
   "metadata": {
    "ExecuteTime": {
     "end_time": "2024-11-30T10:01:38.020830Z",
     "start_time": "2024-11-30T10:01:38.015376Z"
    }
   },
   "cell_type": "code",
   "source": [
    "# real case\n",
    "increase_count = process_input_part2(real_input)\n",
    "print(increase_count)"
   ],
   "id": "aa19b59dcbdb75c4",
   "outputs": [
    {
     "name": "stdout",
     "output_type": "stream",
     "text": [
      "1761\n"
     ]
    }
   ],
   "execution_count": 9
  },
  {
   "metadata": {},
   "cell_type": "code",
   "outputs": [],
   "execution_count": null,
   "source": "",
   "id": "3c30d7641a40375a"
  }
 ],
 "metadata": {
  "kernelspec": {
   "display_name": "Python 3",
   "language": "python",
   "name": "python3"
  },
  "language_info": {
   "codemirror_mode": {
    "name": "ipython",
    "version": 2
   },
   "file_extension": ".py",
   "mimetype": "text/x-python",
   "name": "python",
   "nbconvert_exporter": "python",
   "pygments_lexer": "ipython2",
   "version": "2.7.6"
  }
 },
 "nbformat": 4,
 "nbformat_minor": 5
}
